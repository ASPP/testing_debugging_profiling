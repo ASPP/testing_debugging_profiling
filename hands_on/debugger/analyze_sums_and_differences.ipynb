{
 "cells": [
  {
   "cell_type": "code",
   "execution_count": null,
   "id": "30f3f04f",
   "metadata": {},
   "outputs": [],
   "source": [
    "from debugger_example import sum_over_difference"
   ]
  },
  {
   "cell_type": "code",
   "execution_count": null,
   "id": "3632cacb",
   "metadata": {},
   "outputs": [],
   "source": [
    "result = sum_over_difference(7, 5)\n",
    "print(result)"
   ]
  },
  {
   "cell_type": "code",
   "execution_count": null,
   "id": "02577028",
   "metadata": {},
   "outputs": [],
   "source": [
    "result = sum_over_difference(12, 12)\n",
    "print(result)"
   ]
  },
  {
   "cell_type": "code",
   "execution_count": null,
   "id": "58fc58c0",
   "metadata": {},
   "outputs": [],
   "source": []
  }
 ],
 "metadata": {
  "kernelspec": {
   "display_name": "Python 3 (ipykernel)",
   "language": "python",
   "name": "python3"
  },
  "language_info": {
   "codemirror_mode": {
    "name": "ipython",
    "version": 3
   },
   "file_extension": ".py",
   "mimetype": "text/x-python",
   "name": "python",
   "nbconvert_exporter": "python",
   "pygments_lexer": "ipython3",
   "version": "3.11.3"
  }
 },
 "nbformat": 4,
 "nbformat_minor": 5
}
